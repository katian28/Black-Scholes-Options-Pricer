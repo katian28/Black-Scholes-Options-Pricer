{
 "cells": [
  {
   "cell_type": "markdown",
   "metadata": {},
   "source": [
    "# \ud83e\uddee Black-Scholes Options Pricer\n",
    "*Built by Katia Nkurunziza*\n",
    "\n",
    "A Python implementation of the Black-Scholes model to price European call and put options, visualize sensitivities, and explore financial insights."
   ]
  },
  {
   "cell_type": "markdown",
   "metadata": {},
   "source": [
    "## 1. Introduction\n",
    "\n",
    "The Black-Scholes model is a mathematical model used for pricing European options. It assumes that markets are efficient and that the price of the underlying asset follows a geometric Brownian motion.\n",
    "\n",
    "In this notebook, we:\n",
    "- Implement the Black-Scholes formula for call and put options.\n",
    "- Visualize how option prices vary with underlying parameters.\n",
    "- (Optional) Compare theoretical prices with real market data."
   ]
  },
  {
   "cell_type": "code",
   "execution_count": null,
   "metadata": {},
   "outputs": [],
   "source": [
    "import numpy as np\n",
    "import matplotlib.pyplot as plt\n",
    "from scipy.stats import norm\n",
    "import warnings\n",
    "warnings.filterwarnings(\"ignore\")"
   ]
  },
  {
   "cell_type": "code",
   "execution_count": null,
   "metadata": {},
   "outputs": [],
   "source": [
    "def black_scholes_call(S, K, T, r, sigma):\n",
    "    d1 = (np.log(S / K) + (r + 0.5 * sigma**2) * T) / (sigma * np.sqrt(T))\n",
    "    d2 = d1 - sigma * np.sqrt(T)\n",
    "    return S * norm.cdf(d1) - K * np.exp(-r * T) * norm.cdf(d2)\n",
    "\n",
    "def black_scholes_put(S, K, T, r, sigma):\n",
    "    d1 = (np.log(S / K) + (r + 0.5 * sigma**2) * T) / (sigma * np.sqrt(T))\n",
    "    d2 = d1 - sigma * np.sqrt(T)\n",
    "    return K * np.exp(-r * T) * norm.cdf(-d2) - S * norm.cdf(-d1)"
   ]
  },
  {
   "cell_type": "code",
   "execution_count": null,
   "metadata": {},
   "outputs": [],
   "source": [
    "S_range = np.linspace(50, 150, 100)\n",
    "K = 100\n",
    "T = 1\n",
    "r = 0.05\n",
    "sigma = 0.2\n",
    "\n",
    "call_prices = [black_scholes_call(S, K, T, r, sigma) for S in S_range]\n",
    "put_prices = [black_scholes_put(S, K, T, r, sigma) for S in S_range]\n",
    "\n",
    "plt.figure(figsize=(10, 6))\n",
    "plt.plot(S_range, call_prices, label='Call Option')\n",
    "plt.plot(S_range, put_prices, label='Put Option')\n",
    "plt.title('Option Prices vs. Stock Price')\n",
    "plt.xlabel('Stock Price (S)')\n",
    "plt.ylabel('Option Price')\n",
    "plt.legend()\n",
    "plt.grid(True)\n",
    "plt.show()"
   ]
  },
  {
   "cell_type": "code",
   "execution_count": null,
   "metadata": {},
   "outputs": [],
   "source": [
    "def delta_call(S, K, T, r, sigma):\n",
    "    d1 = (np.log(S/K) + (r + 0.5 * sigma**2) * T) / (sigma * np.sqrt(T))\n",
    "    return norm.cdf(d1)\n",
    "\n",
    "delta_vals = [delta_call(S, K, T, r, sigma) for S in S_range]\n",
    "\n",
    "plt.figure(figsize=(10, 5))\n",
    "plt.plot(S_range, delta_vals, label='Delta of Call Option', color='purple')\n",
    "plt.title('Delta vs. Stock Price')\n",
    "plt.xlabel('Stock Price (S)')\n",
    "plt.ylabel('Delta')\n",
    "plt.grid(True)\n",
    "plt.legend()\n",
    "plt.show()"
   ]
  },
  {
   "cell_type": "markdown",
   "metadata": {},
   "source": [
    "## 7. Conclusion\n",
    "\n",
    "This notebook demonstrates a core quantitative finance technique using Python:\n",
    "- We implemented the Black-Scholes pricing model.\n",
    "- We visualized how option prices respond to changes in market parameters.\n",
    "- We introduced the Delta \"Greek\" as a measure of price sensitivity.\n",
    "- (Optional) We pulled real stock data to explore practical applications.\n",
    "\n",
    "Next steps could include:\n",
    "- Implementing more Greeks (Gamma, Vega, Theta, Rho)\n",
    "- Pricing American options (via binomial trees)\n",
    "- Adding implied volatility estimation"
   ]
  }
 ],
 "metadata": {
  "kernelspec": {
   "display_name": "Python 3",
   "language": "python",
   "name": "python3"
  },
  "language_info": {
   "name": "python",
   "version": ""
  }
 },
 "nbformat": 4,
 "nbformat_minor": 5
}